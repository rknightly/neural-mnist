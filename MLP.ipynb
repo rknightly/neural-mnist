{
 "cells": [
  {
   "cell_type": "code",
   "execution_count": null,
   "metadata": {},
   "outputs": [],
   "source": [
    "'''\n",
    "Basic example originally from https://github.com/keras-team/keras/blob/master/examples/mnist_mlp.py\n",
    "\n",
    "Trains a simple deep NN on the MNIST dataset.\n",
    "\n",
    "Gets to 98.40% test accuracy after 20 epochs\n",
    "(there is *a lot* of margin for parameter tuning).\n",
    "2 seconds per epoch on a K520 GPU.\n",
    "'''"
   ]
  },
  {
   "cell_type": "markdown",
   "metadata": {},
   "source": [
    "# FeedForward Network"
   ]
  },
  {
   "cell_type": "code",
   "execution_count": 1,
   "metadata": {},
   "outputs": [
    {
     "name": "stderr",
     "output_type": "stream",
     "text": [
      "Using TensorFlow backend.\n",
      "/Users/ryan/anaconda3/lib/python3.6/importlib/_bootstrap.py:219: RuntimeWarning: numpy.dtype size changed, may indicate binary incompatibility. Expected 96, got 88\n",
      "  return f(*args, **kwds)\n",
      "/Users/ryan/anaconda3/lib/python3.6/importlib/_bootstrap.py:219: RuntimeWarning: numpy.dtype size changed, may indicate binary incompatibility. Expected 96, got 88\n",
      "  return f(*args, **kwds)\n"
     ]
    }
   ],
   "source": [
    "from __future__ import print_function\n",
    "\n",
    "import keras\n",
    "from keras.datasets import mnist\n",
    "from keras.models import Sequential\n",
    "from keras.layers import Dense, Dropout \n",
    "from keras.optimizers import RMSprop\n",
    "from tensorflow.python.client import device_lib\n",
    "import matplotlib.pyplot as plt"
   ]
  },
  {
   "cell_type": "markdown",
   "metadata": {},
   "source": [
    "## Prepare Data"
   ]
  },
  {
   "cell_type": "code",
   "execution_count": 2,
   "metadata": {},
   "outputs": [
    {
     "name": "stdout",
     "output_type": "stream",
     "text": [
      "60000 train samples\n",
      "10000 test samples\n"
     ]
    }
   ],
   "source": [
    "batch_size = 128\n",
    "num_classes = 10\n",
    "epochs = 20\n",
    "\n",
    "# the data, split between train and test sets\n",
    "(x_train, y_train), (x_test, y_test) = mnist.load_data()\n",
    "\n",
    "x_train = x_train.reshape(60000, 784)\n",
    "x_test = x_test.reshape(10000, 784)\n",
    "x_train = x_train.astype('float32')\n",
    "x_test = x_test.astype('float32')\n",
    "x_train /= 255\n",
    "x_test /= 255\n",
    "print(x_train.shape[0], 'train samples')\n",
    "print(x_test.shape[0], 'test samples')\n",
    "\n",
    "# convert class vectors to binary class matrices\n",
    "y_train = keras.utils.to_categorical(y_train, num_classes)\n",
    "y_test = keras.utils.to_categorical(y_test, num_classes)"
   ]
  },
  {
   "cell_type": "code",
   "execution_count": 3,
   "metadata": {},
   "outputs": [],
   "source": [
    "def test_model(model):\n",
    "    model.summary()\n",
    "\n",
    "    model.compile(loss='categorical_crossentropy',\n",
    "                  optimizer=RMSprop(),\n",
    "                  metrics=['accuracy'])\n",
    "\n",
    "    history = model.fit(x_train, y_train,\n",
    "                        batch_size=batch_size,\n",
    "                        epochs=epochs,\n",
    "                        verbose=1,\n",
    "                        validation_data=(x_test, y_test))\n",
    "\n",
    "\n",
    "    score = model.evaluate(x_test, y_test, verbose=0)\n",
    "    print('Test loss:', score[0])\n",
    "    print('Test accuracy:', score[1])\n",
    "    return history "
   ]
  },
  {
   "cell_type": "markdown",
   "metadata": {},
   "source": [
    "## No Hidden Layers"
   ]
  },
  {
   "cell_type": "code",
   "execution_count": 4,
   "metadata": {},
   "outputs": [
    {
     "name": "stdout",
     "output_type": "stream",
     "text": [
      "_________________________________________________________________\n",
      "Layer (type)                 Output Shape              Param #   \n",
      "=================================================================\n",
      "dense_1 (Dense)              (None, 10)                7850      \n",
      "=================================================================\n",
      "Total params: 7,850\n",
      "Trainable params: 7,850\n",
      "Non-trainable params: 0\n",
      "_________________________________________________________________\n",
      "Train on 60000 samples, validate on 10000 samples\n",
      "Epoch 1/20\n",
      "60000/60000 [==============================] - 1s 18us/step - loss: 0.5931 - acc: 0.8534 - val_loss: 0.3424 - val_acc: 0.9067\n",
      "Epoch 2/20\n",
      "60000/60000 [==============================] - 1s 19us/step - loss: 0.3311 - acc: 0.9080 - val_loss: 0.2980 - val_acc: 0.9173\n",
      "Epoch 3/20\n",
      "60000/60000 [==============================] - 1s 15us/step - loss: 0.3015 - acc: 0.9160 - val_loss: 0.2848 - val_acc: 0.9196\n",
      "Epoch 4/20\n",
      "60000/60000 [==============================] - 1s 15us/step - loss: 0.2880 - acc: 0.9192 - val_loss: 0.2784 - val_acc: 0.9228\n",
      "Epoch 5/20\n",
      "60000/60000 [==============================] - 1s 15us/step - loss: 0.2804 - acc: 0.9216 - val_loss: 0.2748 - val_acc: 0.9234\n",
      "Epoch 6/20\n",
      "60000/60000 [==============================] - 1s 14us/step - loss: 0.2748 - acc: 0.9234 - val_loss: 0.2702 - val_acc: 0.9255\n",
      "Epoch 7/20\n",
      "60000/60000 [==============================] - 1s 14us/step - loss: 0.2704 - acc: 0.9245 - val_loss: 0.2703 - val_acc: 0.9258\n",
      "Epoch 8/20\n",
      "60000/60000 [==============================] - 1s 14us/step - loss: 0.2671 - acc: 0.9259 - val_loss: 0.2704 - val_acc: 0.9263\n",
      "Epoch 9/20\n",
      "60000/60000 [==============================] - 1s 14us/step - loss: 0.2650 - acc: 0.9264 - val_loss: 0.2693 - val_acc: 0.9251\n",
      "Epoch 10/20\n",
      "60000/60000 [==============================] - 1s 14us/step - loss: 0.2626 - acc: 0.9274 - val_loss: 0.2682 - val_acc: 0.9260\n",
      "Epoch 11/20\n",
      "60000/60000 [==============================] - 1s 14us/step - loss: 0.2608 - acc: 0.9286 - val_loss: 0.2706 - val_acc: 0.9266\n",
      "Epoch 12/20\n",
      "60000/60000 [==============================] - 1s 16us/step - loss: 0.2593 - acc: 0.9292 - val_loss: 0.2679 - val_acc: 0.9268\n",
      "Epoch 13/20\n",
      "60000/60000 [==============================] - 1s 15us/step - loss: 0.2578 - acc: 0.9299 - val_loss: 0.2706 - val_acc: 0.9254\n",
      "Epoch 14/20\n",
      "60000/60000 [==============================] - 1s 15us/step - loss: 0.2568 - acc: 0.9299 - val_loss: 0.2672 - val_acc: 0.9276\n",
      "Epoch 15/20\n",
      "60000/60000 [==============================] - 1s 15us/step - loss: 0.2559 - acc: 0.9302 - val_loss: 0.2681 - val_acc: 0.9276\n",
      "Epoch 16/20\n",
      "60000/60000 [==============================] - 1s 15us/step - loss: 0.2547 - acc: 0.9305 - val_loss: 0.2689 - val_acc: 0.9274\n",
      "Epoch 17/20\n",
      "60000/60000 [==============================] - 1s 14us/step - loss: 0.2543 - acc: 0.9314 - val_loss: 0.2666 - val_acc: 0.9281\n",
      "Epoch 18/20\n",
      "60000/60000 [==============================] - 1s 14us/step - loss: 0.2529 - acc: 0.9317 - val_loss: 0.2705 - val_acc: 0.9277\n",
      "Epoch 19/20\n",
      "60000/60000 [==============================] - 1s 15us/step - loss: 0.2525 - acc: 0.9314 - val_loss: 0.2677 - val_acc: 0.9290\n",
      "Epoch 20/20\n",
      "60000/60000 [==============================] - 1s 19us/step - loss: 0.2517 - acc: 0.9312 - val_loss: 0.2698 - val_acc: 0.9273\n",
      "Test loss: 0.2697927760094404\n",
      "Test accuracy: 0.9273\n"
     ]
    }
   ],
   "source": [
    "no_hidden_model = Sequential()\n",
    "no_hidden_model.add(Dense(num_classes, activation='softmax', input_shape=(784,)))\n",
    "\n",
    "no_hidden_history = test_model(no_hidden_model)"
   ]
  },
  {
   "cell_type": "markdown",
   "metadata": {},
   "source": [
    "# One Hidden Layer"
   ]
  },
  {
   "cell_type": "code",
   "execution_count": 6,
   "metadata": {
    "scrolled": true
   },
   "outputs": [
    {
     "name": "stdout",
     "output_type": "stream",
     "text": [
      "_________________________________________________________________\n",
      "Layer (type)                 Output Shape              Param #   \n",
      "=================================================================\n",
      "dense_3 (Dense)              (None, 512)               401920    \n",
      "_________________________________________________________________\n",
      "dropout_1 (Dropout)          (None, 512)               0         \n",
      "_________________________________________________________________\n",
      "dense_4 (Dense)              (None, 10)                5130      \n",
      "=================================================================\n",
      "Total params: 407,050\n",
      "Trainable params: 407,050\n",
      "Non-trainable params: 0\n",
      "_________________________________________________________________\n",
      "Train on 60000 samples, validate on 10000 samples\n",
      "Epoch 1/20\n",
      "60000/60000 [==============================] - 6s 92us/step - loss: 0.2746 - acc: 0.9195 - val_loss: 0.1417 - val_acc: 0.9574\n",
      "Epoch 2/20\n",
      "60000/60000 [==============================] - 5s 90us/step - loss: 0.1192 - acc: 0.9650 - val_loss: 0.0913 - val_acc: 0.9721\n",
      "Epoch 3/20\n",
      "60000/60000 [==============================] - 5s 89us/step - loss: 0.0841 - acc: 0.9745 - val_loss: 0.0779 - val_acc: 0.9758\n",
      "Epoch 4/20\n",
      "60000/60000 [==============================] - 6s 101us/step - loss: 0.0630 - acc: 0.9807 - val_loss: 0.0733 - val_acc: 0.9775\n",
      "Epoch 5/20\n",
      "60000/60000 [==============================] - 6s 98us/step - loss: 0.0525 - acc: 0.9834 - val_loss: 0.0654 - val_acc: 0.9803\n",
      "Epoch 6/20\n",
      "60000/60000 [==============================] - 5s 84us/step - loss: 0.0430 - acc: 0.9867 - val_loss: 0.0604 - val_acc: 0.9817\n",
      "Epoch 7/20\n",
      "60000/60000 [==============================] - 4s 73us/step - loss: 0.0364 - acc: 0.9887 - val_loss: 0.0666 - val_acc: 0.9799\n",
      "Epoch 8/20\n",
      "60000/60000 [==============================] - 6s 97us/step - loss: 0.0325 - acc: 0.9899 - val_loss: 0.0670 - val_acc: 0.9805\n",
      "Epoch 9/20\n",
      "60000/60000 [==============================] - 6s 97us/step - loss: 0.0281 - acc: 0.9911 - val_loss: 0.0711 - val_acc: 0.9789\n",
      "Epoch 10/20\n",
      "60000/60000 [==============================] - 5s 86us/step - loss: 0.0244 - acc: 0.9924 - val_loss: 0.0620 - val_acc: 0.9831\n",
      "Epoch 11/20\n",
      "60000/60000 [==============================] - 5s 87us/step - loss: 0.0210 - acc: 0.9934 - val_loss: 0.0664 - val_acc: 0.9818\n",
      "Epoch 12/20\n",
      "60000/60000 [==============================] - 5s 86us/step - loss: 0.0186 - acc: 0.9942 - val_loss: 0.0662 - val_acc: 0.9833\n",
      "Epoch 13/20\n",
      "60000/60000 [==============================] - 5s 86us/step - loss: 0.0170 - acc: 0.9949 - val_loss: 0.0670 - val_acc: 0.9836\n",
      "Epoch 14/20\n",
      "60000/60000 [==============================] - 5s 82us/step - loss: 0.0151 - acc: 0.9953 - val_loss: 0.0679 - val_acc: 0.9843\n",
      "Epoch 15/20\n",
      "60000/60000 [==============================] - 5s 84us/step - loss: 0.0131 - acc: 0.9959 - val_loss: 0.0733 - val_acc: 0.9823\n",
      "Epoch 16/20\n",
      "60000/60000 [==============================] - 5s 84us/step - loss: 0.0116 - acc: 0.9962 - val_loss: 0.0781 - val_acc: 0.9813\n",
      "Epoch 17/20\n",
      "60000/60000 [==============================] - 5s 84us/step - loss: 0.0112 - acc: 0.9964 - val_loss: 0.0719 - val_acc: 0.9833\n",
      "Epoch 18/20\n",
      "60000/60000 [==============================] - 5s 82us/step - loss: 0.0101 - acc: 0.9970 - val_loss: 0.0744 - val_acc: 0.9835\n",
      "Epoch 19/20\n",
      "60000/60000 [==============================] - 5s 83us/step - loss: 0.0093 - acc: 0.9970 - val_loss: 0.0748 - val_acc: 0.9831\n",
      "Epoch 20/20\n",
      "60000/60000 [==============================] - 5s 82us/step - loss: 0.0081 - acc: 0.9976 - val_loss: 0.0804 - val_acc: 0.9840\n",
      "Test loss: 0.08039053677208653\n",
      "Test accuracy: 0.984\n"
     ]
    }
   ],
   "source": [
    "one_hidden_model = Sequential()\n",
    "one_hidden_model.add(Dense(512, activation='relu', input_shape=(784,)))\n",
    "one_hidden_model.add(Dropout(0.2))\n",
    "one_hidden_model.add(Dense(num_classes, activation='softmax'))\n",
    "\n",
    "one_hidden_history = test_model(one_hidden_model)"
   ]
  },
  {
   "cell_type": "markdown",
   "metadata": {},
   "source": [
    "# Two Hidden Layers"
   ]
  },
  {
   "cell_type": "code",
   "execution_count": 7,
   "metadata": {
    "scrolled": true
   },
   "outputs": [
    {
     "name": "stdout",
     "output_type": "stream",
     "text": [
      "_________________________________________________________________\n",
      "Layer (type)                 Output Shape              Param #   \n",
      "=================================================================\n",
      "dense_5 (Dense)              (None, 512)               401920    \n",
      "_________________________________________________________________\n",
      "dropout_2 (Dropout)          (None, 512)               0         \n",
      "_________________________________________________________________\n",
      "dense_6 (Dense)              (None, 256)               131328    \n",
      "_________________________________________________________________\n",
      "dropout_3 (Dropout)          (None, 256)               0         \n",
      "_________________________________________________________________\n",
      "dense_7 (Dense)              (None, 10)                2570      \n",
      "=================================================================\n",
      "Total params: 535,818\n",
      "Trainable params: 535,818\n",
      "Non-trainable params: 0\n",
      "_________________________________________________________________\n",
      "Train on 60000 samples, validate on 10000 samples\n",
      "Epoch 1/20\n",
      "60000/60000 [==============================] - 8s 128us/step - loss: 0.2585 - acc: 0.9213 - val_loss: 0.1382 - val_acc: 0.9579\n",
      "Epoch 2/20\n",
      "60000/60000 [==============================] - 7s 114us/step - loss: 0.1076 - acc: 0.9671 - val_loss: 0.0801 - val_acc: 0.9757\n",
      "Epoch 3/20\n",
      "60000/60000 [==============================] - 7s 112us/step - loss: 0.0767 - acc: 0.9772 - val_loss: 0.0787 - val_acc: 0.9764\n",
      "Epoch 4/20\n",
      "60000/60000 [==============================] - 7s 113us/step - loss: 0.0631 - acc: 0.9812 - val_loss: 0.0861 - val_acc: 0.9754\n",
      "Epoch 5/20\n",
      "60000/60000 [==============================] - 8s 138us/step - loss: 0.0520 - acc: 0.9841 - val_loss: 0.0840 - val_acc: 0.9789\n",
      "Epoch 6/20\n",
      "60000/60000 [==============================] - 7s 123us/step - loss: 0.0462 - acc: 0.9862 - val_loss: 0.0745 - val_acc: 0.9819\n",
      "Epoch 7/20\n",
      "60000/60000 [==============================] - 7s 115us/step - loss: 0.0416 - acc: 0.9872 - val_loss: 0.0712 - val_acc: 0.9829\n",
      "Epoch 8/20\n",
      "60000/60000 [==============================] - 7s 116us/step - loss: 0.0353 - acc: 0.9898 - val_loss: 0.0883 - val_acc: 0.9796\n",
      "Epoch 9/20\n",
      "60000/60000 [==============================] - 7s 119us/step - loss: 0.0311 - acc: 0.9912 - val_loss: 0.0825 - val_acc: 0.9807\n",
      "Epoch 10/20\n",
      "60000/60000 [==============================] - 7s 111us/step - loss: 0.0297 - acc: 0.9909 - val_loss: 0.0824 - val_acc: 0.9821\n",
      "Epoch 11/20\n",
      "60000/60000 [==============================] - 7s 114us/step - loss: 0.0264 - acc: 0.9922 - val_loss: 0.0875 - val_acc: 0.9827\n",
      "Epoch 12/20\n",
      "60000/60000 [==============================] - 7s 112us/step - loss: 0.0247 - acc: 0.9930 - val_loss: 0.0857 - val_acc: 0.9812\n",
      "Epoch 13/20\n",
      "60000/60000 [==============================] - 7s 125us/step - loss: 0.0248 - acc: 0.9927 - val_loss: 0.0933 - val_acc: 0.9822\n",
      "Epoch 14/20\n",
      "60000/60000 [==============================] - 8s 127us/step - loss: 0.0217 - acc: 0.9937 - val_loss: 0.0947 - val_acc: 0.9839\n",
      "Epoch 15/20\n",
      "60000/60000 [==============================] - 8s 128us/step - loss: 0.0212 - acc: 0.9941 - val_loss: 0.0908 - val_acc: 0.9830\n",
      "Epoch 16/20\n",
      "60000/60000 [==============================] - 6s 98us/step - loss: 0.0209 - acc: 0.9940 - val_loss: 0.1083 - val_acc: 0.9823\n",
      "Epoch 17/20\n",
      "60000/60000 [==============================] - 8s 130us/step - loss: 0.0185 - acc: 0.9945 - val_loss: 0.0910 - val_acc: 0.9836\n",
      "Epoch 18/20\n",
      "60000/60000 [==============================] - 6s 103us/step - loss: 0.0186 - acc: 0.9949 - val_loss: 0.0964 - val_acc: 0.9845\n",
      "Epoch 19/20\n",
      "60000/60000 [==============================] - 6s 99us/step - loss: 0.0190 - acc: 0.9947 - val_loss: 0.0996 - val_acc: 0.9822\n",
      "Epoch 20/20\n",
      "60000/60000 [==============================] - 6s 97us/step - loss: 0.0156 - acc: 0.9955 - val_loss: 0.0979 - val_acc: 0.9832\n",
      "Test loss: 0.09789135575406317\n",
      "Test accuracy: 0.9832\n"
     ]
    }
   ],
   "source": [
    "two_hidden_model = Sequential()\n",
    "two_hidden_model.add(Dense(512, activation='relu', input_shape=(784,)))\n",
    "two_hidden_model.add(Dropout(0.2))\n",
    "two_hidden_model.add(Dense(512, activation='relu'))\n",
    "two_hidden_model.add(Dropout(0.2))\n",
    "two_hidden_model.add(Dense(num_classes, activation='softmax'))\n",
    "\n",
    "two_hidden_history = test_model(two_hidden_model)"
   ]
  },
  {
   "cell_type": "markdown",
   "metadata": {},
   "source": [
    "## Three Hidden Layers"
   ]
  },
  {
   "cell_type": "code",
   "execution_count": 12,
   "metadata": {},
   "outputs": [
    {
     "name": "stdout",
     "output_type": "stream",
     "text": [
      "_________________________________________________________________\n",
      "Layer (type)                 Output Shape              Param #   \n",
      "=================================================================\n",
      "dense_16 (Dense)             (None, 512)               401920    \n",
      "_________________________________________________________________\n",
      "dropout_10 (Dropout)         (None, 512)               0         \n",
      "_________________________________________________________________\n",
      "dense_17 (Dense)             (None, 256)               131328    \n",
      "_________________________________________________________________\n",
      "dropout_11 (Dropout)         (None, 256)               0         \n",
      "_________________________________________________________________\n",
      "dense_18 (Dense)             (None, 128)               32896     \n",
      "_________________________________________________________________\n",
      "dropout_12 (Dropout)         (None, 128)               0         \n",
      "_________________________________________________________________\n",
      "dense_19 (Dense)             (None, 10)                1290      \n",
      "=================================================================\n",
      "Total params: 567,434\n",
      "Trainable params: 567,434\n",
      "Non-trainable params: 0\n",
      "_________________________________________________________________\n",
      "Train on 60000 samples, validate on 10000 samples\n",
      "Epoch 1/20\n",
      "60000/60000 [==============================] - 9s 158us/step - loss: 0.2957 - acc: 0.9090 - val_loss: 0.1094 - val_acc: 0.9666\n",
      "Epoch 2/20\n",
      "60000/60000 [==============================] - 8s 136us/step - loss: 0.1211 - acc: 0.9645 - val_loss: 0.0908 - val_acc: 0.9728\n",
      "Epoch 3/20\n",
      "60000/60000 [==============================] - 8s 127us/step - loss: 0.0899 - acc: 0.9735 - val_loss: 0.0803 - val_acc: 0.9773\n",
      "Epoch 4/20\n",
      "60000/60000 [==============================] - 8s 127us/step - loss: 0.0713 - acc: 0.9796 - val_loss: 0.0860 - val_acc: 0.9761\n",
      "Epoch 5/20\n",
      "60000/60000 [==============================] - 8s 127us/step - loss: 0.0629 - acc: 0.9816 - val_loss: 0.0746 - val_acc: 0.9804\n",
      "Epoch 6/20\n",
      "60000/60000 [==============================] - 8s 131us/step - loss: 0.0532 - acc: 0.9844 - val_loss: 0.0855 - val_acc: 0.9820\n",
      "Epoch 7/20\n",
      "60000/60000 [==============================] - 8s 126us/step - loss: 0.0490 - acc: 0.9863 - val_loss: 0.0732 - val_acc: 0.9832\n",
      "Epoch 8/20\n",
      "60000/60000 [==============================] - 8s 134us/step - loss: 0.0465 - acc: 0.9874 - val_loss: 0.0843 - val_acc: 0.9797\n",
      "Epoch 9/20\n",
      "60000/60000 [==============================] - 8s 128us/step - loss: 0.0416 - acc: 0.9886 - val_loss: 0.0819 - val_acc: 0.9824\n",
      "Epoch 10/20\n",
      "60000/60000 [==============================] - 8s 126us/step - loss: 0.0388 - acc: 0.9893 - val_loss: 0.0821 - val_acc: 0.9835\n",
      "Epoch 11/20\n",
      "60000/60000 [==============================] - 8s 134us/step - loss: 0.0393 - acc: 0.9889 - val_loss: 0.0914 - val_acc: 0.9821\n",
      "Epoch 12/20\n",
      "60000/60000 [==============================] - 8s 140us/step - loss: 0.0354 - acc: 0.9909 - val_loss: 0.1018 - val_acc: 0.9801\n",
      "Epoch 13/20\n",
      "60000/60000 [==============================] - 8s 134us/step - loss: 0.0352 - acc: 0.9910 - val_loss: 0.0905 - val_acc: 0.9819\n",
      "Epoch 14/20\n",
      "60000/60000 [==============================] - 9s 143us/step - loss: 0.0346 - acc: 0.9915 - val_loss: 0.0990 - val_acc: 0.9819\n",
      "Epoch 15/20\n",
      "60000/60000 [==============================] - 8s 129us/step - loss: 0.0315 - acc: 0.9923 - val_loss: 0.0976 - val_acc: 0.9822\n",
      "Epoch 16/20\n",
      "60000/60000 [==============================] - 8s 136us/step - loss: 0.0322 - acc: 0.9921 - val_loss: 0.1101 - val_acc: 0.9822\n",
      "Epoch 17/20\n",
      "60000/60000 [==============================] - 8s 132us/step - loss: 0.0344 - acc: 0.9920 - val_loss: 0.1041 - val_acc: 0.9816\n",
      "Epoch 18/20\n",
      "60000/60000 [==============================] - 8s 131us/step - loss: 0.0309 - acc: 0.9926 - val_loss: 0.1038 - val_acc: 0.9837\n",
      "Epoch 19/20\n",
      "60000/60000 [==============================] - 8s 133us/step - loss: 0.0306 - acc: 0.9929 - val_loss: 0.1054 - val_acc: 0.9828\n",
      "Epoch 20/20\n",
      "60000/60000 [==============================] - 8s 137us/step - loss: 0.0260 - acc: 0.9936 - val_loss: 0.1168 - val_acc: 0.9830\n",
      "Test loss: 0.11684285041484822\n",
      "Test accuracy: 0.983\n"
     ]
    }
   ],
   "source": [
    "three_hidden_model = Sequential()\n",
    "three_hidden_model.add(Dense(512, activation='relu', input_shape=(784,)))\n",
    "three_hidden_model.add(Dropout(0.2))\n",
    "three_hidden_model.add(Dense(512, activation='relu'))\n",
    "three_hidden_model.add(Dropout(0.2))\n",
    "three_hidden_model.add(Dense(512, activation='relu'))\n",
    "three_hidden_model.add(Dropout(0.2))\n",
    "three_hidden_model.add(Dense(num_classes, activation='softmax'))\n",
    "\n",
    "three_hidden_history = test_model(three_hidden_model)"
   ]
  },
  {
   "cell_type": "markdown",
   "metadata": {},
   "source": [
    "## Plotting"
   ]
  },
  {
   "cell_type": "code",
   "execution_count": 14,
   "metadata": {},
   "outputs": [
    {
     "data": {
      "text/plain": [
       "<matplotlib.legend.Legend at 0x13152fef0>"
      ]
     },
     "execution_count": 14,
     "metadata": {},
     "output_type": "execute_result"
    },
    {
     "data": {
      "image/png": "[encoded data removed]",
      "text/plain": [
       "<Figure size 432x288 with 1 Axes>"
      ]
     },
     "metadata": {},
     "output_type": "display_data"
    },
    {
     "data": {
      "image/png": "[encoded data removed]",
      "text/plain": [
       "<Figure size 432x288 with 1 Axes>"
      ]
     },
     "metadata": {},
     "output_type": "display_data"
    }
   ],
   "source": [
    "plt.figure(1)\n",
    "plt.title(\"Train Accuracy Vs. Epoch\")\n",
    "plt.ylabel('Accuracy')  \n",
    "plt.xlabel('Epoch')\n",
    "# summarize history for accuracy  \n",
    "plt.plot(no_hidden_history.history['acc']) \n",
    "plt.plot(one_hidden_history.history['acc']) \n",
    "plt.plot(two_hidden_history.history['acc'])\n",
    "plt.plot(three_hidden_history.history['acc'])\n",
    "plt.legend(['No Hidden Layer', 'One Hidden Layer', 'Two Hidden Layers', 'Three Hidden Layers'], loc='lower right') \n",
    "\n",
    "plt.figure(2)\n",
    "plt.title(\"Validation Accuracy Vs. Epoch\")\n",
    "plt.ylabel('Accuracy')  \n",
    "plt.xlabel('Epoch')\n",
    "# summarize history for accuracy  \n",
    "plt.plot(no_hidden_history.history['val_acc']) \n",
    "plt.plot(one_hidden_history.history['val_acc']) \n",
    "plt.plot(two_hidden_history.history['val_acc'])\n",
    "plt.plot(three_hidden_history.history['val_acc'])\n",
    "plt.legend(['No Hidden Layer', 'One Hidden Layer', 'Two Hidden Layers', 'Three Hidden Layers'], loc='lower right') "
   ]
  },
  {
   "cell_type": "code",
   "execution_count": null,
   "metadata": {},
   "outputs": [],
   "source": []
  }
 ],
 "metadata": {
  "kernelspec": {
   "display_name": "neural",
   "language": "python",
   "name": "neural"
  },
  "language_info": {
   "codemirror_mode": {
    "name": "ipython",
    "version": 3
   },
   "file_extension": ".py",
   "mimetype": "text/x-python",
   "name": "python",
   "nbconvert_exporter": "python",
   "pygments_lexer": "ipython3",
   "version": "3.6.4"
  }
 },
 "nbformat": 4,
 "nbformat_minor": 2
}
