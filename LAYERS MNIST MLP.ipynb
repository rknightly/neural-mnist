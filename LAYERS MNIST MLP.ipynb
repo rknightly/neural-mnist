{
 "cells": [
  {
   "cell_type": "code",
   "execution_count": 34,
   "metadata": {},
   "outputs": [
    {
     "data": {
      "text/plain": [
       "'\\nBasic example originally from https://github.com/keras-team/keras/blob/master/examples/mnist_mlp.py\\n\\nTrains a simple deep NN on the MNIST dataset.\\n\\nGets to 98.40% test accuracy after 20 epochs\\n(there is *a lot* of margin for parameter tuning).\\n2 seconds per epoch on a K520 GPU.\\n'"
      ]
     },
     "execution_count": 34,
     "metadata": {},
     "output_type": "execute_result"
    }
   ],
   "source": [
    "'''\n",
    "Basic example originally from https://github.com/keras-team/keras/blob/master/examples/mnist_mlp.py\n",
    "\n",
    "Trains a simple deep NN on the MNIST dataset.\n",
    "\n",
    "Gets to 98.40% test accuracy after 20 epochs\n",
    "(there is *a lot* of margin for parameter tuning).\n",
    "2 seconds per epoch on a K520 GPU.\n",
    "'''"
   ]
  },
  {
   "cell_type": "markdown",
   "metadata": {},
   "source": [
    "# FeedForward Network"
   ]
  },
  {
   "cell_type": "code",
   "execution_count": 35,
   "metadata": {},
   "outputs": [],
   "source": [
    "from __future__ import print_function\n",
    "\n",
    "import keras\n",
    "from keras.datasets import mnist\n",
    "from keras.models import Sequential\n",
    "from keras.layers import Dense, Dropout \n",
    "from keras.optimizers import RMSprop\n",
    "from tensorflow.python.client import device_lib\n",
    "import matplotlib.pyplot as plt"
   ]
  },
  {
   "cell_type": "markdown",
   "metadata": {},
   "source": [
    "## Prepare Data"
   ]
  },
  {
   "cell_type": "code",
   "execution_count": 36,
   "metadata": {},
   "outputs": [
    {
     "name": "stdout",
     "output_type": "stream",
     "text": [
      "60000 train samples\n",
      "10000 test samples\n"
     ]
    }
   ],
   "source": [
    "batch_size = 128\n",
    "num_classes = 10\n",
    "epochs = 20\n",
    "\n",
    "# the data, split between train and test sets\n",
    "(x_train, y_train), (x_test, y_test) = mnist.load_data()\n",
    "\n",
    "x_train = x_train.reshape(60000, 784)\n",
    "x_test = x_test.reshape(10000, 784)\n",
    "x_train = x_train.astype('float32')\n",
    "x_test = x_test.astype('float32')\n",
    "x_train /= 255\n",
    "x_test /= 255\n",
    "print(x_train.shape[0], 'train samples')\n",
    "print(x_test.shape[0], 'test samples')\n",
    "\n",
    "# convert class vectors to binary class matrices\n",
    "y_train = keras.utils.to_categorical(y_train, num_classes)\n",
    "y_test = keras.utils.to_categorical(y_test, num_classes)"
   ]
  },
  {
   "cell_type": "code",
   "execution_count": 37,
   "metadata": {},
   "outputs": [],
   "source": [
    "def test_model(model):\n",
    "    model.summary()\n",
    "\n",
    "    model.compile(loss='categorical_crossentropy',\n",
    "                  optimizer=RMSprop(),\n",
    "                  metrics=['accuracy'])\n",
    "\n",
    "    history = model.fit(x_train, y_train,\n",
    "                        batch_size=batch_size,\n",
    "                        epochs=epochs,\n",
    "                        verbose=1,\n",
    "                        validation_data=(x_test, y_test))\n",
    "\n",
    "\n",
    "    score = model.evaluate(x_test, y_test, verbose=0)\n",
    "    print('Test loss:', score[0])\n",
    "    print('Test accuracy:', score[1])\n",
    "    return history "
   ]
  },
  {
   "cell_type": "markdown",
   "metadata": {},
   "source": [
    "## No Hidden Layers"
   ]
  },
  {
   "cell_type": "code",
   "execution_count": 38,
   "metadata": {},
   "outputs": [
    {
     "name": "stdout",
     "output_type": "stream",
     "text": [
      "_________________________________________________________________\n",
      "Layer (type)                 Output Shape              Param #   \n",
      "=================================================================\n",
      "dense_34 (Dense)             (None, 10)                7850      \n",
      "=================================================================\n",
      "Total params: 7,850\n",
      "Trainable params: 7,850\n",
      "Non-trainable params: 0\n",
      "_________________________________________________________________\n",
      "Train on 60000 samples, validate on 10000 samples\n",
      "Epoch 1/20\n",
      "60000/60000 [==============================] - 1s 24us/step - loss: 0.6040 - acc: 0.8472 - val_loss: 0.3442 - val_acc: 0.9068\n",
      "Epoch 2/20\n",
      "60000/60000 [==============================] - 1s 15us/step - loss: 0.3313 - acc: 0.9079 - val_loss: 0.2987 - val_acc: 0.9167\n",
      "Epoch 3/20\n",
      "60000/60000 [==============================] - 1s 14us/step - loss: 0.3020 - acc: 0.9162 - val_loss: 0.2864 - val_acc: 0.9199\n",
      "Epoch 4/20\n",
      "60000/60000 [==============================] - 1s 14us/step - loss: 0.2885 - acc: 0.9187 - val_loss: 0.2798 - val_acc: 0.9218\n",
      "Epoch 5/20\n",
      "60000/60000 [==============================] - 1s 13us/step - loss: 0.2803 - acc: 0.9221 - val_loss: 0.2758 - val_acc: 0.9227\n",
      "Epoch 6/20\n",
      "60000/60000 [==============================] - 1s 13us/step - loss: 0.2742 - acc: 0.9243 - val_loss: 0.2740 - val_acc: 0.9241\n",
      "Epoch 7/20\n",
      "60000/60000 [==============================] - 1s 13us/step - loss: 0.2703 - acc: 0.9242 - val_loss: 0.2707 - val_acc: 0.9247\n",
      "Epoch 8/20\n",
      "60000/60000 [==============================] - 1s 13us/step - loss: 0.2675 - acc: 0.9262 - val_loss: 0.2708 - val_acc: 0.9248\n",
      "Epoch 9/20\n",
      "60000/60000 [==============================] - 1s 13us/step - loss: 0.2649 - acc: 0.9269 - val_loss: 0.2684 - val_acc: 0.9255\n",
      "Epoch 10/20\n",
      "60000/60000 [==============================] - 1s 13us/step - loss: 0.2628 - acc: 0.9280 - val_loss: 0.2672 - val_acc: 0.9250\n",
      "Epoch 11/20\n",
      "60000/60000 [==============================] - 1s 14us/step - loss: 0.2605 - acc: 0.9287 - val_loss: 0.2674 - val_acc: 0.9249\n",
      "Epoch 12/20\n",
      "60000/60000 [==============================] - 1s 13us/step - loss: 0.2592 - acc: 0.9293 - val_loss: 0.2684 - val_acc: 0.9267\n",
      "Epoch 13/20\n",
      "60000/60000 [==============================] - 1s 13us/step - loss: 0.2579 - acc: 0.9295 - val_loss: 0.2674 - val_acc: 0.9278\n",
      "Epoch 14/20\n",
      "60000/60000 [==============================] - 1s 14us/step - loss: 0.2569 - acc: 0.9306 - val_loss: 0.2677 - val_acc: 0.9277\n",
      "Epoch 15/20\n",
      "60000/60000 [==============================] - 1s 13us/step - loss: 0.2556 - acc: 0.9305 - val_loss: 0.2719 - val_acc: 0.9259\n",
      "Epoch 16/20\n",
      "60000/60000 [==============================] - 1s 14us/step - loss: 0.2549 - acc: 0.9304 - val_loss: 0.2690 - val_acc: 0.9259\n",
      "Epoch 17/20\n",
      "60000/60000 [==============================] - 1s 13us/step - loss: 0.2540 - acc: 0.9315 - val_loss: 0.2723 - val_acc: 0.9268\n",
      "Epoch 18/20\n",
      "60000/60000 [==============================] - 1s 13us/step - loss: 0.2534 - acc: 0.9319 - val_loss: 0.2713 - val_acc: 0.9279\n",
      "Epoch 19/20\n",
      "60000/60000 [==============================] - 1s 14us/step - loss: 0.2524 - acc: 0.9319 - val_loss: 0.2689 - val_acc: 0.9271\n",
      "Epoch 20/20\n",
      "60000/60000 [==============================] - 1s 13us/step - loss: 0.2520 - acc: 0.9321 - val_loss: 0.2711 - val_acc: 0.9271\n",
      "Test loss: 0.2711434755712748\n",
      "Test accuracy: 0.9271\n"
     ]
    }
   ],
   "source": [
    "no_hidden_model = Sequential()\n",
    "no_hidden_model.add(Dense(num_classes, activation='softmax', input_shape=(784,)))\n",
    "\n",
    "no_hidden_history = test_model(no_hidden_model)"
   ]
  },
  {
   "cell_type": "markdown",
   "metadata": {},
   "source": [
    "# One Hidden Layer"
   ]
  },
  {
   "cell_type": "code",
   "execution_count": 39,
   "metadata": {
    "scrolled": true
   },
   "outputs": [
    {
     "name": "stdout",
     "output_type": "stream",
     "text": [
      "_________________________________________________________________\n",
      "Layer (type)                 Output Shape              Param #   \n",
      "=================================================================\n",
      "dense_35 (Dense)             (None, 800)               628000    \n",
      "_________________________________________________________________\n",
      "dense_36 (Dense)             (None, 10)                8010      \n",
      "=================================================================\n",
      "Total params: 636,010\n",
      "Trainable params: 636,010\n",
      "Non-trainable params: 0\n",
      "_________________________________________________________________\n",
      "Train on 60000 samples, validate on 10000 samples\n",
      "Epoch 1/20\n",
      "60000/60000 [==============================] - 6s 93us/step - loss: 0.2426 - acc: 0.9287 - val_loss: 0.1081 - val_acc: 0.9677\n",
      "Epoch 2/20\n",
      "60000/60000 [==============================] - 5s 81us/step - loss: 0.0941 - acc: 0.9721 - val_loss: 0.0777 - val_acc: 0.9770\n",
      "Epoch 3/20\n",
      "60000/60000 [==============================] - 5s 81us/step - loss: 0.0601 - acc: 0.9824 - val_loss: 0.0864 - val_acc: 0.9747\n",
      "Epoch 4/20\n",
      "60000/60000 [==============================] - 5s 80us/step - loss: 0.0432 - acc: 0.9870 - val_loss: 0.0745 - val_acc: 0.9775\n",
      "Epoch 5/20\n",
      "60000/60000 [==============================] - 5s 79us/step - loss: 0.0318 - acc: 0.9904 - val_loss: 0.0728 - val_acc: 0.9791\n",
      "Epoch 6/20\n",
      "60000/60000 [==============================] - 5s 81us/step - loss: 0.0238 - acc: 0.9927 - val_loss: 0.0608 - val_acc: 0.9823\n",
      "Epoch 7/20\n",
      "60000/60000 [==============================] - 5s 79us/step - loss: 0.0180 - acc: 0.9944 - val_loss: 0.0670 - val_acc: 0.9815\n",
      "Epoch 8/20\n",
      "60000/60000 [==============================] - 5s 79us/step - loss: 0.0133 - acc: 0.9961 - val_loss: 0.0708 - val_acc: 0.9811\n",
      "Epoch 9/20\n",
      "60000/60000 [==============================] - 5s 80us/step - loss: 0.0102 - acc: 0.9972 - val_loss: 0.0793 - val_acc: 0.9800\n",
      "Epoch 10/20\n",
      "60000/60000 [==============================] - 5s 80us/step - loss: 0.0075 - acc: 0.9979 - val_loss: 0.0728 - val_acc: 0.9808\n",
      "Epoch 11/20\n",
      "60000/60000 [==============================] - 5s 80us/step - loss: 0.0062 - acc: 0.9983 - val_loss: 0.0831 - val_acc: 0.9810\n",
      "Epoch 12/20\n",
      "60000/60000 [==============================] - 5s 79us/step - loss: 0.0050 - acc: 0.9986 - val_loss: 0.0889 - val_acc: 0.9793\n",
      "Epoch 13/20\n",
      "60000/60000 [==============================] - 5s 81us/step - loss: 0.0034 - acc: 0.9990 - val_loss: 0.0812 - val_acc: 0.9836\n",
      "Epoch 14/20\n",
      "60000/60000 [==============================] - 5s 81us/step - loss: 0.0028 - acc: 0.9992 - val_loss: 0.0813 - val_acc: 0.9835\n",
      "Epoch 15/20\n",
      "60000/60000 [==============================] - 5s 81us/step - loss: 0.0027 - acc: 0.9993 - val_loss: 0.0934 - val_acc: 0.9822\n",
      "Epoch 16/20\n",
      "60000/60000 [==============================] - 5s 80us/step - loss: 0.0018 - acc: 0.9996 - val_loss: 0.0921 - val_acc: 0.9820\n",
      "Epoch 17/20\n",
      "60000/60000 [==============================] - 5s 82us/step - loss: 0.0018 - acc: 0.9994 - val_loss: 0.0860 - val_acc: 0.9844\n",
      "Epoch 18/20\n",
      "60000/60000 [==============================] - 5s 81us/step - loss: 0.0015 - acc: 0.9996 - val_loss: 0.0921 - val_acc: 0.9825\n",
      "Epoch 19/20\n",
      "60000/60000 [==============================] - 5s 80us/step - loss: 0.0015 - acc: 0.9997 - val_loss: 0.1007 - val_acc: 0.9826\n",
      "Epoch 20/20\n",
      "60000/60000 [==============================] - 5s 80us/step - loss: 0.0012 - acc: 0.9997 - val_loss: 0.0959 - val_acc: 0.9836\n",
      "Test loss: 0.09585468184810493\n",
      "Test accuracy: 0.9836\n"
     ]
    }
   ],
   "source": [
    "one_hidden_model = Sequential()\n",
    "one_hidden_model.add(Dense(800, activation='relu', input_shape=(784,)))\n",
    "# one_hidden_model.add(Dropout(0.2))\n",
    "one_hidden_model.add(Dense(num_classes, activation='softmax'))\n",
    "\n",
    "one_hidden_history = test_model(one_hidden_model)"
   ]
  },
  {
   "cell_type": "markdown",
   "metadata": {},
   "source": [
    "# Two Hidden Layers"
   ]
  },
  {
   "cell_type": "code",
   "execution_count": 40,
   "metadata": {
    "scrolled": true
   },
   "outputs": [
    {
     "name": "stdout",
     "output_type": "stream",
     "text": [
      "_________________________________________________________________\n",
      "Layer (type)                 Output Shape              Param #   \n",
      "=================================================================\n",
      "dense_37 (Dense)             (None, 512)               401920    \n",
      "_________________________________________________________________\n",
      "dense_38 (Dense)             (None, 512)               262656    \n",
      "_________________________________________________________________\n",
      "dense_39 (Dense)             (None, 10)                5130      \n",
      "=================================================================\n",
      "Total params: 669,706\n",
      "Trainable params: 669,706\n",
      "Non-trainable params: 0\n",
      "_________________________________________________________________\n",
      "Train on 60000 samples, validate on 10000 samples\n",
      "Epoch 1/20\n",
      "60000/60000 [==============================] - 6s 96us/step - loss: 0.2187 - acc: 0.9321 - val_loss: 0.1299 - val_acc: 0.9602\n",
      "Epoch 2/20\n",
      "60000/60000 [==============================] - 5s 86us/step - loss: 0.0806 - acc: 0.9752 - val_loss: 0.0795 - val_acc: 0.9749\n",
      "Epoch 3/20\n",
      "60000/60000 [==============================] - 5s 84us/step - loss: 0.0532 - acc: 0.9836 - val_loss: 0.0705 - val_acc: 0.9784\n",
      "Epoch 4/20\n",
      "60000/60000 [==============================] - 5s 88us/step - loss: 0.0384 - acc: 0.9876 - val_loss: 0.0762 - val_acc: 0.9795\n",
      "Epoch 5/20\n",
      "60000/60000 [==============================] - 5s 87us/step - loss: 0.0301 - acc: 0.9910 - val_loss: 0.0762 - val_acc: 0.9809\n",
      "Epoch 6/20\n",
      "60000/60000 [==============================] - 5s 85us/step - loss: 0.0235 - acc: 0.9927 - val_loss: 0.0770 - val_acc: 0.9821\n",
      "Epoch 7/20\n",
      "60000/60000 [==============================] - 5s 84us/step - loss: 0.0198 - acc: 0.9942 - val_loss: 0.0859 - val_acc: 0.9814\n",
      "Epoch 8/20\n",
      "60000/60000 [==============================] - 5s 84us/step - loss: 0.0160 - acc: 0.9953 - val_loss: 0.0993 - val_acc: 0.9832\n",
      "Epoch 9/20\n",
      "60000/60000 [==============================] - 5s 84us/step - loss: 0.0145 - acc: 0.9959 - val_loss: 0.1035 - val_acc: 0.9801\n",
      "Epoch 10/20\n",
      "60000/60000 [==============================] - 5s 85us/step - loss: 0.0113 - acc: 0.9965 - val_loss: 0.1159 - val_acc: 0.9825\n",
      "Epoch 11/20\n",
      "60000/60000 [==============================] - 5s 86us/step - loss: 0.0112 - acc: 0.9968 - val_loss: 0.1044 - val_acc: 0.9820\n",
      "Epoch 12/20\n",
      "60000/60000 [==============================] - 5s 91us/step - loss: 0.0090 - acc: 0.9972 - val_loss: 0.1079 - val_acc: 0.9836\n",
      "Epoch 13/20\n",
      "60000/60000 [==============================] - 5s 85us/step - loss: 0.0102 - acc: 0.9975 - val_loss: 0.1159 - val_acc: 0.9835\n",
      "Epoch 14/20\n",
      "60000/60000 [==============================] - 5s 83us/step - loss: 0.0080 - acc: 0.9976 - val_loss: 0.1391 - val_acc: 0.9793\n",
      "Epoch 15/20\n",
      "60000/60000 [==============================] - 5s 83us/step - loss: 0.0077 - acc: 0.9980 - val_loss: 0.1332 - val_acc: 0.9811\n",
      "Epoch 16/20\n",
      "60000/60000 [==============================] - 5s 83us/step - loss: 0.0088 - acc: 0.9976 - val_loss: 0.1194 - val_acc: 0.9823\n",
      "Epoch 17/20\n",
      "60000/60000 [==============================] - 5s 84us/step - loss: 0.0080 - acc: 0.9978 - val_loss: 0.1290 - val_acc: 0.9823\n",
      "Epoch 18/20\n",
      "60000/60000 [==============================] - 5s 84us/step - loss: 0.0065 - acc: 0.9981 - val_loss: 0.1228 - val_acc: 0.9826\n",
      "Epoch 19/20\n",
      "60000/60000 [==============================] - 5s 83us/step - loss: 0.0062 - acc: 0.9983 - val_loss: 0.1611 - val_acc: 0.9813\n",
      "Epoch 20/20\n",
      "60000/60000 [==============================] - 5s 84us/step - loss: 0.0057 - acc: 0.9984 - val_loss: 0.1500 - val_acc: 0.9804\n",
      "Test loss: 0.15001079753381477\n",
      "Test accuracy: 0.9804\n"
     ]
    }
   ],
   "source": [
    "two_hidden_model = Sequential()\n",
    "two_hidden_model.add(Dense(512, activation='relu', input_shape=(784,)))\n",
    "# two_hidden_model.add(Dropout(0.2))\n",
    "two_hidden_model.add(Dense(512, activation='relu'))\n",
    "# two_hidden_model.add(Dropout(0.2))\n",
    "two_hidden_model.add(Dense(num_classes, activation='softmax'))\n",
    "\n",
    "two_hidden_history = test_model(two_hidden_model)"
   ]
  },
  {
   "cell_type": "markdown",
   "metadata": {},
   "source": [
    "## Three Hidden Layers"
   ]
  },
  {
   "cell_type": "code",
   "execution_count": 41,
   "metadata": {},
   "outputs": [
    {
     "name": "stdout",
     "output_type": "stream",
     "text": [
      "_________________________________________________________________\n",
      "Layer (type)                 Output Shape              Param #   \n",
      "=================================================================\n",
      "dense_40 (Dense)             (None, 800)               628000    \n",
      "_________________________________________________________________\n",
      "dense_41 (Dense)             (None, 400)               320400    \n",
      "_________________________________________________________________\n",
      "dense_42 (Dense)             (None, 200)               80200     \n",
      "_________________________________________________________________\n",
      "dense_43 (Dense)             (None, 10)                2010      \n",
      "=================================================================\n",
      "Total params: 1,030,610\n",
      "Trainable params: 1,030,610\n",
      "Non-trainable params: 0\n",
      "_________________________________________________________________\n",
      "Train on 60000 samples, validate on 10000 samples\n",
      "Epoch 1/20\n",
      "60000/60000 [==============================] - 9s 146us/step - loss: 0.2326 - acc: 0.9272 - val_loss: 0.1018 - val_acc: 0.9701\n",
      "Epoch 2/20\n",
      "60000/60000 [==============================] - 8s 135us/step - loss: 0.0869 - acc: 0.9738 - val_loss: 0.0787 - val_acc: 0.9775\n",
      "Epoch 3/20\n",
      "60000/60000 [==============================] - 8s 135us/step - loss: 0.0591 - acc: 0.9825 - val_loss: 0.1296 - val_acc: 0.9677\n",
      "Epoch 4/20\n",
      "60000/60000 [==============================] - 8s 133us/step - loss: 0.0440 - acc: 0.9873 - val_loss: 0.0775 - val_acc: 0.9814\n",
      "Epoch 5/20\n",
      "60000/60000 [==============================] - 8s 133us/step - loss: 0.0354 - acc: 0.9895 - val_loss: 0.0828 - val_acc: 0.9809\n",
      "Epoch 6/20\n",
      "60000/60000 [==============================] - 8s 136us/step - loss: 0.0291 - acc: 0.9916 - val_loss: 0.1117 - val_acc: 0.9783\n",
      "Epoch 7/20\n",
      "60000/60000 [==============================] - 8s 134us/step - loss: 0.0280 - acc: 0.9925 - val_loss: 0.1015 - val_acc: 0.9793\n",
      "Epoch 8/20\n",
      "60000/60000 [==============================] - 8s 131us/step - loss: 0.0231 - acc: 0.9931 - val_loss: 0.0948 - val_acc: 0.9821\n",
      "Epoch 9/20\n",
      "60000/60000 [==============================] - 8s 136us/step - loss: 0.0226 - acc: 0.9943 - val_loss: 0.1143 - val_acc: 0.9800\n",
      "Epoch 10/20\n",
      "60000/60000 [==============================] - 8s 134us/step - loss: 0.0196 - acc: 0.9949 - val_loss: 0.1237 - val_acc: 0.9797\n",
      "Epoch 11/20\n",
      "60000/60000 [==============================] - 8s 133us/step - loss: 0.0179 - acc: 0.9954 - val_loss: 0.1216 - val_acc: 0.9815\n",
      "Epoch 12/20\n",
      "60000/60000 [==============================] - 8s 134us/step - loss: 0.0186 - acc: 0.9955 - val_loss: 0.1680 - val_acc: 0.9761\n",
      "Epoch 13/20\n",
      "60000/60000 [==============================] - 8s 136us/step - loss: 0.0178 - acc: 0.9962 - val_loss: 0.1350 - val_acc: 0.9801\n",
      "Epoch 14/20\n",
      "60000/60000 [==============================] - 8s 134us/step - loss: 0.0187 - acc: 0.9963 - val_loss: 0.1492 - val_acc: 0.9819\n",
      "Epoch 15/20\n",
      "60000/60000 [==============================] - 8s 134us/step - loss: 0.0180 - acc: 0.9965 - val_loss: 0.1166 - val_acc: 0.9839\n",
      "Epoch 16/20\n",
      "60000/60000 [==============================] - 8s 134us/step - loss: 0.0144 - acc: 0.9966 - val_loss: 0.1430 - val_acc: 0.9814\n",
      "Epoch 17/20\n",
      "60000/60000 [==============================] - 8s 136us/step - loss: 0.0151 - acc: 0.9970 - val_loss: 0.1208 - val_acc: 0.9843\n",
      "Epoch 18/20\n",
      "60000/60000 [==============================] - 8s 135us/step - loss: 0.0123 - acc: 0.9971 - val_loss: 0.1562 - val_acc: 0.9818\n",
      "Epoch 19/20\n",
      "60000/60000 [==============================] - 8s 132us/step - loss: 0.0139 - acc: 0.9974 - val_loss: 0.1410 - val_acc: 0.9837\n",
      "Epoch 20/20\n",
      "60000/60000 [==============================] - 8s 136us/step - loss: 0.0139 - acc: 0.9972 - val_loss: 0.1518 - val_acc: 0.9829\n",
      "Test loss: 0.1518450398352631\n",
      "Test accuracy: 0.9829\n"
     ]
    }
   ],
   "source": [
    "three_hidden_model = Sequential()\n",
    "three_hidden_model.add(Dense(800, activation='relu', input_shape=(784,)))\n",
    "# three_hidden_model.add(Dropout(0.2))\n",
    "three_hidden_model.add(Dense(400, activation='relu'))\n",
    "# three_hidden_model.add(Dropout(0.2))\n",
    "three_hidden_model.add(Dense(200, activation='relu'))\n",
    "# three_hidden_model.add(Dropout(0.2))\n",
    "three_hidden_model.add(Dense(num_classes, activation='softmax'))\n",
    "\n",
    "three_hidden_history = test_model(three_hidden_model)"
   ]
  },
  {
   "cell_type": "markdown",
   "metadata": {},
   "source": [
    "## Plotting"
   ]
  },
  {
   "cell_type": "code",
   "execution_count": 42,
   "metadata": {},
   "outputs": [
    {
     "data": {
      "text/plain": [
       "<matplotlib.legend.Legend at 0x131f29588>"
      ]
     },
     "execution_count": 42,
     "metadata": {},
     "output_type": "execute_result"
    },
    {
     "data": {
      "image/png": "[encoded data removed]",
      "text/plain": [
       "<Figure size 432x288 with 1 Axes>"
      ]
     },
     "metadata": {},
     "output_type": "display_data"
    },
    {
     "data": {
      "image/png": "[encoded data removed]",
      "text/plain": [
       "<Figure size 432x288 with 1 Axes>"
      ]
     },
     "metadata": {},
     "output_type": "display_data"
    }
   ],
   "source": [
    "plt.figure(1)\n",
    "plt.title(\"Train Accuracy Vs. Epoch\")\n",
    "plt.ylabel('Accuracy')  \n",
    "plt.xlabel('Epoch')\n",
    "# summarize history for accuracy  \n",
    "plt.plot(no_hidden_history.history['acc']) \n",
    "plt.plot(one_hidden_history.history['acc']) \n",
    "plt.plot(two_hidden_history.history['acc'])\n",
    "plt.plot(three_hidden_history.history['acc'])\n",
    "plt.legend(['No Hidden Layer', 'One Hidden Layer', 'Two Hidden Layers', 'Three Hidden Layers'], loc='lower right') \n",
    "\n",
    "plt.figure(2)\n",
    "plt.title(\"Validation Accuracy Vs. Epoch\")\n",
    "plt.ylabel('Accuracy')  \n",
    "plt.xlabel('Epoch')\n",
    "# summarize history for accuracy  \n",
    "plt.plot(no_hidden_history.history['val_acc']) \n",
    "plt.plot(one_hidden_history.history['val_acc']) \n",
    "plt.plot(two_hidden_history.history['val_acc'])\n",
    "plt.plot(three_hidden_history.history['val_acc'])\n",
    "plt.legend(['No Hidden Layer', 'One Hidden Layer', 'Two Hidden Layers', 'Three Hidden Layers'], loc='lower right') "
   ]
  },
  {
   "cell_type": "code",
   "execution_count": null,
   "metadata": {},
   "outputs": [],
   "source": []
  }
 ],
 "metadata": {
  "kernelspec": {
   "display_name": "neural",
   "language": "python",
   "name": "neural"
  },
  "language_info": {
   "codemirror_mode": {
    "name": "ipython",
    "version": 3
   },
   "file_extension": ".py",
   "mimetype": "text/x-python",
   "name": "python",
   "nbconvert_exporter": "python",
   "pygments_lexer": "ipython3",
   "version": "3.5.1"
  }
 },
 "nbformat": 4,
 "nbformat_minor": 2
}
