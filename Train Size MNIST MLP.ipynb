{
 "cells": [
  {
   "cell_type": "code",
   "execution_count": 88,
   "metadata": {},
   "outputs": [
    {
     "data": {
      "text/plain": [
       "'\\nBasic example originally from https://github.com/keras-team/keras/blob/master/examples/mnist_mlp.py\\n\\nTrains a simple deep NN on the MNIST dataset.\\n\\nGets to 98.40% test accuracy after 20 epochs\\n(there is *a lot* of margin for parameter tuning).\\n2 seconds per epoch on a K520 GPU.\\n'"
      ]
     },
     "execution_count": 88,
     "metadata": {},
     "output_type": "execute_result"
    }
   ],
   "source": [
    "'''\n",
    "Basic example originally from https://github.com/keras-team/keras/blob/master/examples/mnist_mlp.py\n",
    "\n",
    "Trains a simple deep NN on the MNIST dataset.\n",
    "\n",
    "Gets to 98.40% test accuracy after 20 epochs\n",
    "(there is *a lot* of margin for parameter tuning).\n",
    "2 seconds per epoch on a K520 GPU.\n",
    "'''"
   ]
  },
  {
   "cell_type": "markdown",
   "metadata": {},
   "source": [
    "# FeedForward Network"
   ]
  },
  {
   "cell_type": "code",
   "execution_count": 89,
   "metadata": {},
   "outputs": [],
   "source": [
    "from __future__ import print_function\n",
    "\n",
    "import keras\n",
    "from keras.datasets import mnist\n",
    "from keras.models import Sequential\n",
    "from keras.layers import Dense, Dropout \n",
    "from keras.optimizers import RMSprop\n",
    "from tensorflow.python.client import device_lib\n",
    "import matplotlib.pyplot as plt\n",
    "import numpy as np"
   ]
  },
  {
   "cell_type": "markdown",
   "metadata": {},
   "source": [
    "## Prepare Data"
   ]
  },
  {
   "cell_type": "code",
   "execution_count": 90,
   "metadata": {},
   "outputs": [
    {
     "name": "stdout",
     "output_type": "stream",
     "text": [
      "60000 Total train samples\n",
      "10000 Total test samples\n"
     ]
    }
   ],
   "source": [
    "batch_size = 128\n",
    "num_classes = 10\n",
    "epochs = 20\n",
    "\n",
    "# the data, split between train and test sets\n",
    "(x_train, y_train), (x_test, y_test) = mnist.load_data()\n",
    "\n",
    "x_train = x_train.reshape(60000, 784)\n",
    "x_test = x_test.reshape(10000, 784)\n",
    "x_train = x_train.astype('float32')\n",
    "x_test = x_test.astype('float32')\n",
    "x_train /= 255\n",
    "x_test /= 255\n",
    "print(x_train.shape[0], 'Total train samples')\n",
    "print(x_test.shape[0], 'Total test samples')\n",
    "\n",
    "# convert class vectors to binary class matrices\n",
    "y_train = keras.utils.to_categorical(y_train, num_classes)\n",
    "y_test = keras.utils.to_categorical(y_test, num_classes)"
   ]
  },
  {
   "cell_type": "markdown",
   "metadata": {},
   "source": [
    "## Test Models"
   ]
  },
  {
   "cell_type": "code",
   "execution_count": 91,
   "metadata": {},
   "outputs": [],
   "source": [
    "def test_model(sample_count):\n",
    "    model = Sequential()\n",
    "    model.add(Dense(512, activation='relu', input_shape=(784,)))\n",
    "#     model.add(Dropout(0.2))\n",
    "    model.add(Dense(512, activation='relu'))\n",
    "#     model.add(Dropout(0.2))\n",
    "    model.add(Dense(num_classes, activation='softmax'))\n",
    "\n",
    "#     random_indeces = np.arange(len(x_train))\n",
    "#     np.random.shuffle(random_indeces)\n",
    "#     x_train = x[random_indeces]\n",
    "#     y_train = y[random_indeces]\n",
    "\n",
    "    x_train_small = x_train[:][:sample_count]\n",
    "    y_train_small = y_train[:][:sample_count]\n",
    "    print('Training Shape:', x_train_small.shape)\n",
    "\n",
    "    model.summary()\n",
    "\n",
    "    model.compile(loss='categorical_crossentropy',\n",
    "                  optimizer=RMSprop(),\n",
    "                  metrics=['accuracy'])\n",
    "\n",
    "    training = model.fit(x_train_small, y_train_small,\n",
    "                        batch_size=batch_size,\n",
    "                        epochs=epochs,\n",
    "                        verbose=1,\n",
    "                        validation_data=(x_test, y_test))\n",
    "\n",
    "\n",
    "    score = model.evaluate(x_test, y_test, verbose=0)\n",
    "    print('Test loss:', score[0])\n",
    "    print('Test accuracy:', score[1])\n",
    "    print(training.history)\n",
    "    training.history['acc'] = 100.0 * np.array(training.history['acc']) # Convert to percent\n",
    "    training.history['val_acc'] = 100.0 * np.array(training.history['val_acc']) # Convert to percent\n",
    "    print(training.history)\n",
    "    \n",
    "    return training"
   ]
  },
  {
   "cell_type": "code",
   "execution_count": 92,
   "metadata": {},
   "outputs": [
    {
     "name": "stdout",
     "output_type": "stream",
     "text": [
      "Training Shape: (60, 784)\n",
      "_________________________________________________________________\n",
      "Layer (type)                 Output Shape              Param #   \n",
      "=================================================================\n",
      "dense_92 (Dense)             (None, 512)               401920    \n",
      "_________________________________________________________________\n",
      "dense_93 (Dense)             (None, 512)               262656    \n",
      "_________________________________________________________________\n",
      "dense_94 (Dense)             (None, 10)                5130      \n",
      "=================================================================\n",
      "Total params: 669,706\n",
      "Trainable params: 669,706\n",
      "Non-trainable params: 0\n",
      "_________________________________________________________________\n",
      "Train on 60 samples, validate on 10000 samples\n",
      "Epoch 1/20\n",
      "60/60 [==============================] - 1s 23ms/step - loss: 2.3476 - acc: 0.0667 - val_loss: 1.9949 - val_acc: 0.3512\n",
      "Epoch 2/20\n",
      "60/60 [==============================] - 0s 5ms/step - loss: 1.4223 - acc: 0.5500 - val_loss: 1.6514 - val_acc: 0.4686\n",
      "Epoch 3/20\n",
      "60/60 [==============================] - 0s 4ms/step - loss: 0.9636 - acc: 0.8500 - val_loss: 1.6985 - val_acc: 0.4654\n",
      "Epoch 4/20\n",
      "60/60 [==============================] - 0s 4ms/step - loss: 0.6852 - acc: 0.7833 - val_loss: 1.2929 - val_acc: 0.6042\n",
      "Epoch 5/20\n",
      "60/60 [==============================] - 0s 4ms/step - loss: 0.3890 - acc: 0.9833 - val_loss: 1.3912 - val_acc: 0.5486\n",
      "Epoch 6/20\n",
      "60/60 [==============================] - 0s 4ms/step - loss: 0.2948 - acc: 0.9000 - val_loss: 1.1972 - val_acc: 0.6464\n",
      "Epoch 7/20\n",
      "60/60 [==============================] - 0s 4ms/step - loss: 0.1967 - acc: 1.0000 - val_loss: 1.1389 - val_acc: 0.6133\n",
      "Epoch 8/20\n",
      "60/60 [==============================] - 0s 4ms/step - loss: 0.0908 - acc: 1.0000 - val_loss: 1.0546 - val_acc: 0.6670\n",
      "Epoch 9/20\n",
      "60/60 [==============================] - 0s 4ms/step - loss: 0.0519 - acc: 1.0000 - val_loss: 1.0247 - val_acc: 0.6718\n",
      "Epoch 10/20\n",
      "60/60 [==============================] - 0s 4ms/step - loss: 0.0382 - acc: 1.0000 - val_loss: 1.0306 - val_acc: 0.6724\n",
      "Epoch 11/20\n",
      "60/60 [==============================] - 0s 4ms/step - loss: 0.0304 - acc: 1.0000 - val_loss: 1.0295 - val_acc: 0.6733\n",
      "Epoch 12/20\n",
      "60/60 [==============================] - 0s 4ms/step - loss: 0.0250 - acc: 1.0000 - val_loss: 1.0317 - val_acc: 0.6732\n",
      "Epoch 13/20\n",
      "60/60 [==============================] - 0s 4ms/step - loss: 0.0209 - acc: 1.0000 - val_loss: 1.0334 - val_acc: 0.6740\n",
      "Epoch 14/20\n",
      "60/60 [==============================] - 0s 4ms/step - loss: 0.0178 - acc: 1.0000 - val_loss: 1.0356 - val_acc: 0.6740\n",
      "Epoch 15/20\n",
      "60/60 [==============================] - 0s 4ms/step - loss: 0.0153 - acc: 1.0000 - val_loss: 1.0382 - val_acc: 0.6745\n",
      "Epoch 16/20\n",
      "60/60 [==============================] - 0s 4ms/step - loss: 0.0133 - acc: 1.0000 - val_loss: 1.0403 - val_acc: 0.6752\n",
      "Epoch 17/20\n",
      "60/60 [==============================] - 0s 4ms/step - loss: 0.0117 - acc: 1.0000 - val_loss: 1.0436 - val_acc: 0.6759\n",
      "Epoch 18/20\n",
      "60/60 [==============================] - 0s 5ms/step - loss: 0.0103 - acc: 1.0000 - val_loss: 1.0465 - val_acc: 0.6756\n",
      "Epoch 19/20\n",
      "60/60 [==============================] - 0s 5ms/step - loss: 0.0091 - acc: 1.0000 - val_loss: 1.0500 - val_acc: 0.6763\n",
      "Epoch 20/20\n",
      "60/60 [==============================] - 0s 4ms/step - loss: 0.0081 - acc: 1.0000 - val_loss: 1.0536 - val_acc: 0.6758\n",
      "Test loss: 1.0535721372127533\n",
      "Test accuracy: 0.6758\n",
      "{'loss': [2.3475677967071533, 1.4223288297653198, 0.9636255502700806, 0.6852244138717651, 0.389022558927536, 0.29476502537727356, 0.19666102528572083, 0.09078790992498398, 0.051915206015110016, 0.03822679817676544, 0.03041601926088333, 0.02498508244752884, 0.02094908617436886, 0.017804419621825218, 0.015325522981584072, 0.013320115394890308, 0.01166762225329876, 0.010289732366800308, 0.009123015217483044, 0.008132584393024445], 'acc': [0.06666667014360428, 0.550000011920929, 0.8500000238418579, 0.7833333611488342, 0.9833333492279053, 0.8999999761581421, 1.0, 1.0, 1.0, 1.0, 1.0, 1.0, 1.0, 1.0, 1.0, 1.0, 1.0, 1.0, 1.0, 1.0], 'val_loss': [1.9949465507507325, 1.651360168838501, 1.6985065319061279, 1.2929103395462036, 1.3911978874206543, 1.1972071796417236, 1.1389498182296753, 1.0545503603935242, 1.0246970282554626, 1.030602863407135, 1.029500595474243, 1.0317189606666566, 1.033381240272522, 1.0355583326339721, 1.038195489215851, 1.0403155492782592, 1.043649408721924, 1.0464957071304322, 1.0500263515472412, 1.0535721356391907], 'val_acc': [0.3512, 0.4686, 0.4654, 0.6042, 0.5486, 0.6464, 0.6133, 0.667, 0.6718, 0.6724, 0.6733, 0.6732, 0.674, 0.674, 0.6745, 0.6752, 0.6759, 0.6756, 0.6763, 0.6758]}\n",
      "{'loss': [2.3475677967071533, 1.4223288297653198, 0.9636255502700806, 0.6852244138717651, 0.389022558927536, 0.29476502537727356, 0.19666102528572083, 0.09078790992498398, 0.051915206015110016, 0.03822679817676544, 0.03041601926088333, 0.02498508244752884, 0.02094908617436886, 0.017804419621825218, 0.015325522981584072, 0.013320115394890308, 0.01166762225329876, 0.010289732366800308, 0.009123015217483044, 0.008132584393024445], 'acc': array([  6.66666701,  55.00000119,  85.00000238,  78.33333611,\n",
      "        98.33333492,  89.99999762, 100.        , 100.        ,\n",
      "       100.        , 100.        , 100.        , 100.        ,\n",
      "       100.        , 100.        , 100.        , 100.        ,\n",
      "       100.        , 100.        , 100.        , 100.        ]), 'val_loss': [1.9949465507507325, 1.651360168838501, 1.6985065319061279, 1.2929103395462036, 1.3911978874206543, 1.1972071796417236, 1.1389498182296753, 1.0545503603935242, 1.0246970282554626, 1.030602863407135, 1.029500595474243, 1.0317189606666566, 1.033381240272522, 1.0355583326339721, 1.038195489215851, 1.0403155492782592, 1.043649408721924, 1.0464957071304322, 1.0500263515472412, 1.0535721356391907], 'val_acc': array([35.12, 46.86, 46.54, 60.42, 54.86, 64.64, 61.33, 66.7 , 67.18,\n",
      "       67.24, 67.33, 67.32, 67.4 , 67.4 , 67.45, 67.52, 67.59, 67.56,\n",
      "       67.63, 67.58])}\n",
      "Training Shape: (600, 784)\n",
      "_________________________________________________________________\n",
      "Layer (type)                 Output Shape              Param #   \n",
      "=================================================================\n",
      "dense_95 (Dense)             (None, 512)               401920    \n",
      "_________________________________________________________________\n",
      "dense_96 (Dense)             (None, 512)               262656    \n",
      "_________________________________________________________________\n",
      "dense_97 (Dense)             (None, 10)                5130      \n",
      "=================================================================\n",
      "Total params: 669,706\n",
      "Trainable params: 669,706\n",
      "Non-trainable params: 0\n",
      "_________________________________________________________________\n",
      "Train on 600 samples, validate on 10000 samples\n",
      "Epoch 1/20\n",
      "600/600 [==============================] - 2s 3ms/step - loss: 1.6088 - acc: 0.4600 - val_loss: 1.3078 - val_acc: 0.6045\n",
      "Epoch 2/20\n",
      "600/600 [==============================] - 0s 481us/step - loss: 0.7208 - acc: 0.8033 - val_loss: 0.9966 - val_acc: 0.7329\n",
      "Epoch 3/20\n",
      "600/600 [==============================] - 0s 478us/step - loss: 0.4510 - acc: 0.8833 - val_loss: 0.5839 - val_acc: 0.8309\n",
      "Epoch 4/20\n",
      "600/600 [==============================] - 0s 478us/step - loss: 0.2450 - acc: 0.9450 - val_loss: 0.8129 - val_acc: 0.7159\n",
      "Epoch 5/20\n",
      "600/600 [==============================] - 0s 472us/step - loss: 0.2767 - acc: 0.9167 - val_loss: 0.4775 - val_acc: 0.8532\n",
      "Epoch 6/20\n",
      "600/600 [==============================] - 0s 508us/step - loss: 0.1203 - acc: 0.9833 - val_loss: 0.4671 - val_acc: 0.8489\n",
      "Epoch 7/20\n",
      "600/600 [==============================] - 0s 477us/step - loss: 0.0841 - acc: 0.9933 - val_loss: 0.5650 - val_acc: 0.8174\n",
      "Epoch 8/20\n",
      "600/600 [==============================] - 0s 499us/step - loss: 0.1821 - acc: 0.9467 - val_loss: 0.7141 - val_acc: 0.7993\n",
      "Epoch 9/20\n",
      "600/600 [==============================] - 0s 478us/step - loss: 0.0634 - acc: 0.9967 - val_loss: 0.4389 - val_acc: 0.8645\n",
      "Epoch 10/20\n",
      "600/600 [==============================] - 0s 503us/step - loss: 0.0267 - acc: 1.0000 - val_loss: 0.4424 - val_acc: 0.8671\n",
      "Epoch 11/20\n"
     ]
    },
    {
     "name": "stdout",
     "output_type": "stream",
     "text": [
      "600/600 [==============================] - 0s 475us/step - loss: 0.0188 - acc: 1.0000 - val_loss: 0.4380 - val_acc: 0.8710\n",
      "Epoch 12/20\n",
      "600/600 [==============================] - 0s 491us/step - loss: 0.0149 - acc: 1.0000 - val_loss: 0.4891 - val_acc: 0.8629\n",
      "Epoch 13/20\n",
      "600/600 [==============================] - 0s 485us/step - loss: 0.0092 - acc: 1.0000 - val_loss: 0.4682 - val_acc: 0.8672\n",
      "Epoch 14/20\n",
      "600/600 [==============================] - 0s 468us/step - loss: 0.0074 - acc: 1.0000 - val_loss: 0.5216 - val_acc: 0.8600\n",
      "Epoch 15/20\n",
      "600/600 [==============================] - 0s 484us/step - loss: 0.1853 - acc: 0.9700 - val_loss: 0.9760 - val_acc: 0.8120\n",
      "Epoch 16/20\n",
      "600/600 [==============================] - 0s 494us/step - loss: 0.0828 - acc: 0.9800 - val_loss: 0.4730 - val_acc: 0.8710\n",
      "Epoch 17/20\n",
      "600/600 [==============================] - 0s 490us/step - loss: 0.0063 - acc: 1.0000 - val_loss: 0.4788 - val_acc: 0.8714\n",
      "Epoch 18/20\n",
      "600/600 [==============================] - 0s 500us/step - loss: 0.0046 - acc: 1.0000 - val_loss: 0.4819 - val_acc: 0.8720\n",
      "Epoch 19/20\n",
      "600/600 [==============================] - 0s 484us/step - loss: 0.0035 - acc: 1.0000 - val_loss: 0.4908 - val_acc: 0.8740\n",
      "Epoch 20/20\n",
      "600/600 [==============================] - 0s 488us/step - loss: 0.0027 - acc: 1.0000 - val_loss: 0.4971 - val_acc: 0.8735\n",
      "Test loss: 0.4971278795776889\n",
      "Test accuracy: 0.8735\n",
      "{'loss': [1.6087775802612305, 0.7207924143473308, 0.45098485708236696, 0.24498184363047282, 0.2767439164717992, 0.12031345814466476, 0.0840719989935557, 0.18214476784070333, 0.0634429277976354, 0.026740487615267435, 0.018770209153493245, 0.014934974076847235, 0.009249804156521955, 0.007352490747968356, 0.18531868259112041, 0.08275698464363813, 0.006347141365210215, 0.004554046764969826, 0.0034731933878113827, 0.0026959102849165597], 'acc': [0.460000003973643, 0.8033333333333333, 0.8833333373069763, 0.9450000015894572, 0.9166666682561239, 0.9833333333333333, 0.9933333349227905, 0.9466666706403096, 0.9966666666666667, 1.0, 1.0, 1.0, 1.0, 1.0, 0.9699999992052714, 0.98, 1.0, 1.0, 1.0, 1.0], 'val_loss': [1.3077990207672119, 0.996636646270752, 0.5839296766281128, 0.8128587495803833, 0.4774649735927582, 0.4671160012245178, 0.5649972809791565, 0.7141150700569153, 0.43892537002563475, 0.4424159744262695, 0.43797363147735596, 0.48909387397766113, 0.4682460967063904, 0.5216303708076477, 0.9760118907928467, 0.4729896158218384, 0.47876768016815185, 0.4819235291004181, 0.49081629009246824, 0.4971278787612915], 'val_acc': [0.6045, 0.7329, 0.8309, 0.7159, 0.8532, 0.8489, 0.8174, 0.7993, 0.8645, 0.8671, 0.871, 0.8629, 0.8672, 0.86, 0.812, 0.871, 0.8714, 0.872, 0.874, 0.8735]}\n",
      "{'loss': [1.6087775802612305, 0.7207924143473308, 0.45098485708236696, 0.24498184363047282, 0.2767439164717992, 0.12031345814466476, 0.0840719989935557, 0.18214476784070333, 0.0634429277976354, 0.026740487615267435, 0.018770209153493245, 0.014934974076847235, 0.009249804156521955, 0.007352490747968356, 0.18531868259112041, 0.08275698464363813, 0.006347141365210215, 0.004554046764969826, 0.0034731933878113827, 0.0026959102849165597], 'acc': array([ 46.0000004 ,  80.33333333,  88.33333373,  94.50000016,\n",
      "        91.66666683,  98.33333333,  99.33333349,  94.66666706,\n",
      "        99.66666667, 100.        , 100.        , 100.        ,\n",
      "       100.        , 100.        ,  96.99999992,  98.        ,\n",
      "       100.        , 100.        , 100.        , 100.        ]), 'val_loss': [1.3077990207672119, 0.996636646270752, 0.5839296766281128, 0.8128587495803833, 0.4774649735927582, 0.4671160012245178, 0.5649972809791565, 0.7141150700569153, 0.43892537002563475, 0.4424159744262695, 0.43797363147735596, 0.48909387397766113, 0.4682460967063904, 0.5216303708076477, 0.9760118907928467, 0.4729896158218384, 0.47876768016815185, 0.4819235291004181, 0.49081629009246824, 0.4971278787612915], 'val_acc': array([60.45, 73.29, 83.09, 71.59, 85.32, 84.89, 81.74, 79.93, 86.45,\n",
      "       86.71, 87.1 , 86.29, 86.72, 86.  , 81.2 , 87.1 , 87.14, 87.2 ,\n",
      "       87.4 , 87.35])}\n",
      "Training Shape: (6000, 784)\n",
      "_________________________________________________________________\n",
      "Layer (type)                 Output Shape              Param #   \n",
      "=================================================================\n",
      "dense_98 (Dense)             (None, 512)               401920    \n",
      "_________________________________________________________________\n",
      "dense_99 (Dense)             (None, 512)               262656    \n",
      "_________________________________________________________________\n",
      "dense_100 (Dense)            (None, 10)                5130      \n",
      "=================================================================\n",
      "Total params: 669,706\n",
      "Trainable params: 669,706\n",
      "Non-trainable params: 0\n",
      "_________________________________________________________________\n",
      "Train on 6000 samples, validate on 10000 samples\n",
      "Epoch 1/20\n",
      "6000/6000 [==============================] - 2s 341us/step - loss: 0.6088 - acc: 0.8095 - val_loss: 0.3011 - val_acc: 0.9082\n",
      "Epoch 2/20\n",
      "6000/6000 [==============================] - 1s 130us/step - loss: 0.2385 - acc: 0.9277 - val_loss: 0.3323 - val_acc: 0.9030\n",
      "Epoch 3/20\n",
      "6000/6000 [==============================] - 1s 162us/step - loss: 0.1510 - acc: 0.9568 - val_loss: 0.2035 - val_acc: 0.9358\n",
      "Epoch 4/20\n",
      "6000/6000 [==============================] - 1s 182us/step - loss: 0.0918 - acc: 0.9730 - val_loss: 0.1994 - val_acc: 0.9401\n",
      "Epoch 5/20\n",
      "6000/6000 [==============================] - 1s 128us/step - loss: 0.0584 - acc: 0.9838 - val_loss: 0.2785 - val_acc: 0.9202\n",
      "Epoch 6/20\n",
      "6000/6000 [==============================] - 1s 120us/step - loss: 0.0541 - acc: 0.9830 - val_loss: 0.1694 - val_acc: 0.9487\n",
      "Epoch 7/20\n",
      "6000/6000 [==============================] - 1s 121us/step - loss: 0.0248 - acc: 0.9933 - val_loss: 0.2370 - val_acc: 0.9384\n",
      "Epoch 8/20\n",
      "6000/6000 [==============================] - 1s 123us/step - loss: 0.0242 - acc: 0.9923 - val_loss: 0.2329 - val_acc: 0.9413\n",
      "Epoch 9/20\n",
      "6000/6000 [==============================] - 1s 130us/step - loss: 0.0152 - acc: 0.9960 - val_loss: 0.1968 - val_acc: 0.9516\n",
      "Epoch 10/20\n",
      "6000/6000 [==============================] - 1s 128us/step - loss: 0.0133 - acc: 0.9970 - val_loss: 0.4250 - val_acc: 0.9091\n",
      "Epoch 11/20\n",
      "6000/6000 [==============================] - 1s 129us/step - loss: 0.0091 - acc: 0.9972 - val_loss: 0.2027 - val_acc: 0.9544\n",
      "Epoch 12/20\n",
      "6000/6000 [==============================] - 1s 169us/step - loss: 0.0091 - acc: 0.9975 - val_loss: 0.2098 - val_acc: 0.9537\n",
      "Epoch 13/20\n",
      "6000/6000 [==============================] - 1s 155us/step - loss: 0.0046 - acc: 0.9983 - val_loss: 0.2349 - val_acc: 0.9520\n",
      "Epoch 14/20\n",
      "6000/6000 [==============================] - 1s 130us/step - loss: 0.0090 - acc: 0.9978 - val_loss: 0.2365 - val_acc: 0.9525\n",
      "Epoch 15/20\n",
      "6000/6000 [==============================] - 1s 160us/step - loss: 0.0017 - acc: 0.9997 - val_loss: 0.2350 - val_acc: 0.9546\n",
      "Epoch 16/20\n",
      "6000/6000 [==============================] - 1s 151us/step - loss: 0.0063 - acc: 0.9982 - val_loss: 0.2625 - val_acc: 0.9522\n",
      "Epoch 17/20\n",
      "6000/6000 [==============================] - 1s 141us/step - loss: 0.0015 - acc: 0.9995 - val_loss: 0.2782 - val_acc: 0.9523\n",
      "Epoch 18/20\n",
      "6000/6000 [==============================] - 1s 145us/step - loss: 3.5356e-04 - acc: 1.0000 - val_loss: 0.2728 - val_acc: 0.9535\n",
      "Epoch 19/20\n",
      "6000/6000 [==============================] - 1s 121us/step - loss: 0.0085 - acc: 0.9973 - val_loss: 0.3083 - val_acc: 0.9500\n",
      "Epoch 20/20\n",
      "6000/6000 [==============================] - 1s 121us/step - loss: 9.9441e-05 - acc: 1.0000 - val_loss: 0.2773 - val_acc: 0.9557\n",
      "Test loss: 0.27732787440576157\n",
      "Test accuracy: 0.9557\n",
      "{'loss': [0.6088275349934896, 0.2384559842745463, 0.1510138069987297, 0.0918319493830204, 0.058401384949684144, 0.05408373173822959, 0.024772922789057097, 0.024236065730452536, 0.015194775291408101, 0.013328490249812603, 0.009149099670738603, 0.009064173952055474, 0.004569511060602963, 0.008957502810594936, 0.0017450442522531375, 0.006294718130802115, 0.001527048876043409, 0.0003535584544248801, 0.008501303884375375, 9.94405680091101e-05], 'acc': [0.8095000003178915, 0.9276666669845581, 0.9568333336512248, 0.9730000001589457, 0.9838333334922791, 0.983, 0.9933333328564962, 0.9923333328564962, 0.996, 0.9969999996821085, 0.9971666666666666, 0.9975, 0.9983333333333333, 0.9978333333333333, 0.9996666666666667, 0.9981666661898295, 0.9995, 1.0, 0.9973333333333333, 1.0], 'val_loss': [0.30112434639930724, 0.33226552292108535, 0.20346988582611084, 0.1993822389125824, 0.2785411707401276, 0.16942196459919215, 0.23695098499655723, 0.23293283230513334, 0.19676973113846033, 0.4250426505446434, 0.2027439350703731, 0.20977387822726742, 0.23487448859103024, 0.23654459945401177, 0.23503446271815046, 0.26254943901970984, 0.2782468124060717, 0.27283315377795514, 0.30834356526326157, 0.27732786363486955], 'val_acc': [0.9082, 0.903, 0.9358, 0.9401, 0.9202, 0.9487, 0.9384, 0.9413, 0.9516, 0.9091, 0.9544, 0.9537, 0.952, 0.9525, 0.9546, 0.9522, 0.9523, 0.9535, 0.95, 0.9557]}\n",
      "{'loss': [0.6088275349934896, 0.2384559842745463, 0.1510138069987297, 0.0918319493830204, 0.058401384949684144, 0.05408373173822959, 0.024772922789057097, 0.024236065730452536, 0.015194775291408101, 0.013328490249812603, 0.009149099670738603, 0.009064173952055474, 0.004569511060602963, 0.008957502810594936, 0.0017450442522531375, 0.006294718130802115, 0.001527048876043409, 0.0003535584544248801, 0.008501303884375375, 9.94405680091101e-05], 'acc': array([ 80.95000003,  92.7666667 ,  95.68333337,  97.30000002,\n",
      "        98.38333335,  98.3       ,  99.33333329,  99.23333329,\n",
      "        99.6       ,  99.69999997,  99.71666667,  99.75      ,\n",
      "        99.83333333,  99.78333333,  99.96666667,  99.81666662,\n",
      "        99.95      , 100.        ,  99.73333333, 100.        ]), 'val_loss': [0.30112434639930724, 0.33226552292108535, 0.20346988582611084, 0.1993822389125824, 0.2785411707401276, 0.16942196459919215, 0.23695098499655723, 0.23293283230513334, 0.19676973113846033, 0.4250426505446434, 0.2027439350703731, 0.20977387822726742, 0.23487448859103024, 0.23654459945401177, 0.23503446271815046, 0.26254943901970984, 0.2782468124060717, 0.27283315377795514, 0.30834356526326157, 0.27732786363486955], 'val_acc': array([90.82, 90.3 , 93.58, 94.01, 92.02, 94.87, 93.84, 94.13, 95.16,\n",
      "       90.91, 95.44, 95.37, 95.2 , 95.25, 95.46, 95.22, 95.23, 95.35,\n",
      "       95.  , 95.57])}\n",
      "Training Shape: (60000, 784)\n",
      "_________________________________________________________________\n",
      "Layer (type)                 Output Shape              Param #   \n",
      "=================================================================\n",
      "dense_101 (Dense)            (None, 512)               401920    \n",
      "_________________________________________________________________\n",
      "dense_102 (Dense)            (None, 512)               262656    \n",
      "_________________________________________________________________\n",
      "dense_103 (Dense)            (None, 10)                5130      \n",
      "=================================================================\n",
      "Total params: 669,706\n",
      "Trainable params: 669,706\n",
      "Non-trainable params: 0\n",
      "_________________________________________________________________\n"
     ]
    },
    {
     "name": "stdout",
     "output_type": "stream",
     "text": [
      "Train on 60000 samples, validate on 10000 samples\n",
      "Epoch 1/20\n",
      "60000/60000 [==============================] - 7s 109us/step - loss: 0.2190 - acc: 0.9319 - val_loss: 0.1166 - val_acc: 0.9625\n",
      "Epoch 2/20\n",
      "60000/60000 [==============================] - 5s 87us/step - loss: 0.0829 - acc: 0.9745 - val_loss: 0.0754 - val_acc: 0.9771\n",
      "Epoch 3/20\n",
      "60000/60000 [==============================] - 5s 90us/step - loss: 0.0534 - acc: 0.9833 - val_loss: 0.1008 - val_acc: 0.9709\n",
      "Epoch 4/20\n",
      "60000/60000 [==============================] - 5s 85us/step - loss: 0.0384 - acc: 0.9880 - val_loss: 0.0795 - val_acc: 0.9796\n",
      "Epoch 5/20\n",
      "60000/60000 [==============================] - 5s 86us/step - loss: 0.0294 - acc: 0.9906 - val_loss: 0.0874 - val_acc: 0.9792\n",
      "Epoch 6/20\n",
      "60000/60000 [==============================] - 6s 93us/step - loss: 0.0226 - acc: 0.9928 - val_loss: 0.1057 - val_acc: 0.9740\n",
      "Epoch 7/20\n",
      "60000/60000 [==============================] - 6s 92us/step - loss: 0.0183 - acc: 0.9944 - val_loss: 0.0899 - val_acc: 0.9802\n",
      "Epoch 8/20\n",
      "60000/60000 [==============================] - 5s 91us/step - loss: 0.0158 - acc: 0.9953 - val_loss: 0.1005 - val_acc: 0.9790\n",
      "Epoch 9/20\n",
      "60000/60000 [==============================] - 6s 106us/step - loss: 0.0129 - acc: 0.9962 - val_loss: 0.0926 - val_acc: 0.9830\n",
      "Epoch 10/20\n",
      "60000/60000 [==============================] - 7s 116us/step - loss: 0.0119 - acc: 0.9965 - val_loss: 0.1075 - val_acc: 0.9826\n",
      "Epoch 11/20\n",
      "60000/60000 [==============================] - 7s 118us/step - loss: 0.0099 - acc: 0.9971 - val_loss: 0.1156 - val_acc: 0.9810\n",
      "Epoch 12/20\n",
      "60000/60000 [==============================] - 6s 93us/step - loss: 0.0090 - acc: 0.9973 - val_loss: 0.1169 - val_acc: 0.9815\n",
      "Epoch 13/20\n",
      "60000/60000 [==============================] - 6s 95us/step - loss: 0.0086 - acc: 0.9976 - val_loss: 0.1663 - val_acc: 0.9753\n",
      "Epoch 14/20\n",
      "60000/60000 [==============================] - 6s 95us/step - loss: 0.0084 - acc: 0.9976 - val_loss: 0.1217 - val_acc: 0.9823\n",
      "Epoch 15/20\n",
      "60000/60000 [==============================] - 6s 94us/step - loss: 0.0077 - acc: 0.9980 - val_loss: 0.1156 - val_acc: 0.9824\n",
      "Epoch 16/20\n",
      "60000/60000 [==============================] - 6s 96us/step - loss: 0.0070 - acc: 0.9982 - val_loss: 0.1070 - val_acc: 0.9852\n",
      "Epoch 17/20\n",
      "60000/60000 [==============================] - 6s 94us/step - loss: 0.0069 - acc: 0.9982 - val_loss: 0.1178 - val_acc: 0.9833\n",
      "Epoch 18/20\n",
      "60000/60000 [==============================] - 6s 96us/step - loss: 0.0060 - acc: 0.9986 - val_loss: 0.1184 - val_acc: 0.9827\n",
      "Epoch 19/20\n",
      "60000/60000 [==============================] - 6s 97us/step - loss: 0.0072 - acc: 0.9983 - val_loss: 0.1228 - val_acc: 0.9837\n",
      "Epoch 20/20\n",
      "60000/60000 [==============================] - 6s 96us/step - loss: 0.0041 - acc: 0.9991 - val_loss: 0.1650 - val_acc: 0.9808\n",
      "Test loss: 0.16500494653722544\n",
      "Test accuracy: 0.9808\n",
      "{'loss': [0.21903033947149914, 0.082939936063687, 0.053390246777733165, 0.03841793709633251, 0.0293755934332187, 0.02261974454841887, 0.01826226146077582, 0.01579285748975041, 0.012882906019253036, 0.011945612807997288, 0.009856973953798783, 0.009001438171029198, 0.00860098427616825, 0.00836813017298482, 0.007663353380304519, 0.006999794004069827, 0.006871367609350735, 0.006010465287130531, 0.007246157205080544, 0.00411987373438072], 'acc': [0.9318500000317892, 0.9744666666348776, 0.9833333333015442, 0.9880166666984558, 0.9905833333333334, 0.9928333333333333, 0.9943666666984559, 0.9953499999682108, 0.9962, 0.9964999999682108, 0.9971, 0.9973, 0.9975833333333334, 0.9976000000317892, 0.9979666666666667, 0.9982, 0.9981833333333333, 0.9986166666666667, 0.9983166666666666, 0.9991166666348775], 'val_loss': [0.11664674062728882, 0.07537815638985484, 0.10075884755961596, 0.07954616017481313, 0.08742096549390117, 0.10573655025203334, 0.08985297394547961, 0.10052300211264956, 0.0926447957431199, 0.10752948980408392, 0.11555870428663911, 0.11686120092686969, 0.16626186865432394, 0.12166985936169367, 0.115605124144812, 0.10702899445498369, 0.11781319048951791, 0.11841884074047229, 0.12276782353428407, 0.16500493921857506], 'val_acc': [0.9625, 0.9771, 0.9709, 0.9796, 0.9792, 0.974, 0.9802, 0.979, 0.983, 0.9826, 0.981, 0.9815, 0.9753, 0.9823, 0.9824, 0.9852, 0.9833, 0.9827, 0.9837, 0.9808]}\n",
      "{'loss': [0.21903033947149914, 0.082939936063687, 0.053390246777733165, 0.03841793709633251, 0.0293755934332187, 0.02261974454841887, 0.01826226146077582, 0.01579285748975041, 0.012882906019253036, 0.011945612807997288, 0.009856973953798783, 0.009001438171029198, 0.00860098427616825, 0.00836813017298482, 0.007663353380304519, 0.006999794004069827, 0.006871367609350735, 0.006010465287130531, 0.007246157205080544, 0.00411987373438072], 'acc': array([93.185     , 97.44666666, 98.33333333, 98.80166667, 99.05833333,\n",
      "       99.28333333, 99.43666667, 99.535     , 99.62      , 99.65      ,\n",
      "       99.71      , 99.73      , 99.75833333, 99.76      , 99.79666667,\n",
      "       99.82      , 99.81833333, 99.86166667, 99.83166667, 99.91166666]), 'val_loss': [0.11664674062728882, 0.07537815638985484, 0.10075884755961596, 0.07954616017481313, 0.08742096549390117, 0.10573655025203334, 0.08985297394547961, 0.10052300211264956, 0.0926447957431199, 0.10752948980408392, 0.11555870428663911, 0.11686120092686969, 0.16626186865432394, 0.12166985936169367, 0.115605124144812, 0.10702899445498369, 0.11781319048951791, 0.11841884074047229, 0.12276782353428407, 0.16500493921857506], 'val_acc': array([96.25, 97.71, 97.09, 97.96, 97.92, 97.4 , 98.02, 97.9 , 98.3 ,\n",
      "       98.26, 98.1 , 98.15, 97.53, 98.23, 98.24, 98.52, 98.33, 98.27,\n",
      "       98.37, 98.08])}\n"
     ]
    }
   ],
   "source": [
    "sixty = test_model(60)\n",
    "six_hundred = test_model(600)\n",
    "six_thousand = test_model(6000)\n",
    "sixty_thousand = test_model(60000)"
   ]
  },
  {
   "cell_type": "markdown",
   "metadata": {},
   "source": [
    "## Plotting"
   ]
  },
  {
   "cell_type": "code",
   "execution_count": 93,
   "metadata": {
    "scrolled": false
   },
   "outputs": [
    {
     "name": "stdout",
     "output_type": "stream",
     "text": [
      "[  6.66666701  55.00000119  85.00000238  78.33333611  98.33333492\n",
      "  89.99999762 100.         100.         100.         100.\n",
      " 100.         100.         100.         100.         100.\n",
      " 100.         100.         100.         100.         100.        ]\n"
     ]
    },
    {
     "data": {
      "text/plain": [
       "<matplotlib.legend.Legend at 0x1443d74e0>"
      ]
     },
     "execution_count": 93,
     "metadata": {},
     "output_type": "execute_result"
    },
    {
     "data": {
      "image/png": "[encoded data removed]",
      "text/plain": [
       "<Figure size 432x288 with 1 Axes>"
      ]
     },
     "metadata": {},
     "output_type": "display_data"
    },
    {
     "data": {
      "image/png": "[encoded data removed]",
      "text/plain": [
       "<Figure size 432x288 with 1 Axes>"
      ]
     },
     "metadata": {},
     "output_type": "display_data"
    },
    {
     "data": {
      "image/png": "[encoded data removed]",
      "text/plain": [
       "<Figure size 432x288 with 1 Axes>"
      ]
     },
     "metadata": {},
     "output_type": "display_data"
    },
    {
     "data": {
      "image/png": "[encoded data removed]",
      "text/plain": [
       "<Figure size 432x288 with 1 Axes>"
      ]
     },
     "metadata": {},
     "output_type": "display_data"
    }
   ],
   "source": [
    "plt.figure(0)\n",
    "plt.title('Training Data Size vs. Training Accuracy')\n",
    "plt.ylabel('Training Accuracy %')\n",
    "\n",
    "bar_titles = ('60 Samples', '600 Samples', '6,000 Samples', '60,000 Samples')\n",
    "accuracy = [sixty.history['acc'][-1],\n",
    "            six_hundred.history['acc'][-1], \n",
    "            six_thousand.history['acc'][-1], \n",
    "            sixty_thousand.history['acc'][-1]]\n",
    "\n",
    "x_nums = np.arange(len(bar_titles))\n",
    "plt.bar(x_nums, accuracy, align='center', alpha=0.5)\n",
    "plt.xticks(x_nums, bar_titles)\n",
    "\n",
    "plt.figure(1)\n",
    "plt.title('Training Data Size vs. Validation Accuracy')\n",
    "plt.ylabel('Training Accuracy %')\n",
    "\n",
    "bar_titles = ('60 Samples', '600 Samples', '6,000 Samples', '60,000 Samples')\n",
    "accuracy = [sixty.history['val_acc'][-1],\n",
    "            six_hundred.history['val_acc'][-1], \n",
    "            six_thousand.history['val_acc'][-1], \n",
    "            sixty_thousand.history['val_acc'][-1]]\n",
    "\n",
    "x_nums = np.arange(len(bar_titles))\n",
    "plt.bar(x_nums, accuracy, align='center', alpha=0.5)\n",
    "plt.xticks(x_nums, bar_titles)\n",
    "\n",
    "\n",
    "# plt.title(\"Training Data Size vs. Training Accuracy\")\n",
    "# plt.xlabel('Training Data Size')\n",
    "# plt.ylabel('Training Accuracy %')\n",
    "# x = [600, 6000, 60000]\n",
    "# y = [six_hundred.history['acc'][-1], six_thousand.history['acc'][-1], sixty_thousand.history['acc'][-1]]\n",
    "# plt.bar(x, y, width=100)\n",
    "\n",
    "plt.figure(2)\n",
    "plt.title(\"Train Accuracy Vs. Epoch\")\n",
    "plt.ylabel('Accuracy')  \n",
    "plt.xlabel('Epoch')\n",
    "# summarize history for accuracy  \n",
    "plt.plot(sixty.history['acc']) \n",
    "print(sixty.history['acc'])\n",
    "plt.plot(six_hundred.history['acc']) \n",
    "plt.plot(six_thousand.history['acc']) \n",
    "plt.plot(sixty_thousand.history['acc'])\n",
    "plt.legend(['60 Samples', '600 Samples', '6,000 Samples', '60,000 Samples'], loc='lower right') \n",
    "\n",
    "plt.figure(3)\n",
    "plt.title(\"Validation Accuracy Vs. Epoch\")\n",
    "plt.ylabel('Accuracy')  \n",
    "plt.xlabel('Epoch')\n",
    "# summarize history for accuracy\n",
    "plt.plot(sixty.history['val_acc']) \n",
    "plt.plot(six_hundred.history['val_acc']) \n",
    "plt.plot(six_thousand.history['val_acc']) \n",
    "plt.plot(sixty_thousand.history['val_acc'])\n",
    "plt.legend(['60 Samples', '600 Samples', '6,000 Samples', '60,000 Samples'], loc='lower right') "
   ]
  },
  {
   "cell_type": "code",
   "execution_count": null,
   "metadata": {},
   "outputs": [],
   "source": []
  }
 ],
 "metadata": {
  "kernelspec": {
   "display_name": "neural",
   "language": "python",
   "name": "neural"
  },
  "language_info": {
   "codemirror_mode": {
    "name": "ipython",
    "version": 3
   },
   "file_extension": ".py",
   "mimetype": "text/x-python",
   "name": "python",
   "nbconvert_exporter": "python",
   "pygments_lexer": "ipython3",
   "version": "3.5.1"
  }
 },
 "nbformat": 4,
 "nbformat_minor": 2
}
